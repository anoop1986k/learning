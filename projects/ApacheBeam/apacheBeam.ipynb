{
 "cells": [
  {
   "cell_type": "code",
   "execution_count": 2,
   "id": "d9a10ab1",
   "metadata": {},
   "outputs": [
    {
     "name": "stdout",
     "output_type": "stream",
     "text": [
      "     149633CM    Marco  10  Accounts   1-01-2019\n",
      "0    212539MU  Rebekah  10  Accounts   1-01-2019\n",
      "1    231555ZZ     Itoe  10  Accounts   1-01-2019\n",
      "2    503996WI  Edouard  10  Accounts   1-01-2019\n",
      "3    704275DC     Kyle  10  Accounts   1-01-2019\n",
      "4    957149WC     Kyle  10  Accounts   1-01-2019\n",
      "..        ...      ...  ..       ...         ...\n",
      "892  245319LD  Valerie  30   Finance  31-01-2019\n",
      "893  818776XR    Dolly  30   Finance  31-01-2019\n",
      "894  259229ZU    Emily  30   Finance  31-01-2019\n",
      "895  349360YC    Kaori  30   Finance  31-01-2019\n",
      "896  951594MT   Hitomi  30   Finance  31-01-2019\n",
      "\n",
      "[897 rows x 5 columns]\n"
     ]
    }
   ],
   "source": [
    "import pandas as pd\n",
    "\n",
    "def read_text_file_to_dataframe(file_path, delimiter=','):\n",
    "    \"\"\"\n",
    "    Reads a text file into a Pandas DataFrame and displays it.\n",
    "\n",
    "    Args:\n",
    "        file_path (str): The path to the text file.\n",
    "        delimiter (str, optional): The delimiter used in the text file. Defaults to ','.\n",
    "    \"\"\"\n",
    "    try:\n",
    "        df = pd.read_csv(file_path, sep=delimiter)\n",
    "        print(df)\n",
    "    except FileNotFoundError:\n",
    "        print(f\"Error: File not found at '{file_path}'\")\n",
    "    except pd.errors.EmptyDataError:\n",
    "        print(f\"Error: The file at '{file_path}' is empty\")\n",
    "    except pd.errors.ParserError:\n",
    "         print(f\"Error: Could not parse the file at '{file_path}'. Check the delimiter.\")\n",
    "    except Exception as e:\n",
    "        print(f\"An unexpected error occurred: {e}\")\n",
    "\n",
    "file_path = 'dept_data.txt'\n",
    "read_text_file_to_dataframe(file_path)\n"
   ]
  },
  {
   "cell_type": "code",
   "execution_count": null,
   "id": "04207d83",
   "metadata": {},
   "outputs": [],
   "source": []
  }
 ],
 "metadata": {
  "kernelspec": {
   "display_name": "Python 3",
   "language": "python",
   "name": "python3"
  },
  "language_info": {
   "codemirror_mode": {
    "name": "ipython",
    "version": 3
   },
   "file_extension": ".py",
   "mimetype": "text/x-python",
   "name": "python",
   "nbconvert_exporter": "python",
   "pygments_lexer": "ipython3",
   "version": "3.13.1"
  }
 },
 "nbformat": 4,
 "nbformat_minor": 5
}
